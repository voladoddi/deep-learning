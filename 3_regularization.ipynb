{
 "cells": [
  {
   "cell_type": "markdown",
   "metadata": {
    "colab_type": "text",
    "id": "kR-4eNdK6lYS"
   },
   "source": [
    "Deep Learning\n",
    "=============\n",
    "\n",
    "Assignment 3\n",
    "------------\n",
    "\n",
    "Previously in `2_fullyconnected.ipynb`, you trained a logistic regression and a neural network model.\n",
    "\n",
    "The goal of this assignment is to explore regularization techniques."
   ]
  },
  {
   "cell_type": "code",
   "execution_count": 34,
   "metadata": {
    "cellView": "both",
    "colab": {
     "autoexec": {
      "startup": false,
      "wait_interval": 0
     }
    },
    "colab_type": "code",
    "collapsed": false,
    "id": "JLpLa8Jt7Vu4"
   },
   "outputs": [],
   "source": [
    "# These are all the modules we'll be using later. Make sure you can import them\n",
    "# before proceeding further.\n",
    "#from __future__ import print_function\n",
    "import numpy as np\n",
    "import os\n",
    "import tensorflow as tf\n",
    "from six.moves import cPickle as pickle\n",
    "import matplotlib.pyplot as plt"
   ]
  },
  {
   "cell_type": "markdown",
   "metadata": {
    "colab_type": "text",
    "id": "1HrCK6e17WzV"
   },
   "source": [
    "First reload the data we generated in _notmist.ipynb_."
   ]
  },
  {
   "cell_type": "code",
   "execution_count": 80,
   "metadata": {
    "cellView": "both",
    "colab": {
     "autoexec": {
      "startup": false,
      "wait_interval": 0
     },
     "output_extras": [
      {
       "item_id": 1
      }
     ]
    },
    "colab_type": "code",
    "collapsed": false,
    "executionInfo": {
     "elapsed": 11777,
     "status": "ok",
     "timestamp": 1449849322348,
     "user": {
      "color": "",
      "displayName": "",
      "isAnonymous": false,
      "isMe": true,
      "permissionId": "",
      "photoUrl": "",
      "sessionId": "0",
      "userId": ""
     },
     "user_tz": 480
    },
    "id": "y3-cj1bpmuxc",
    "outputId": "e03576f1-ebbe-4838-c388-f1777bcc9873"
   },
   "outputs": [
    {
     "name": "stdout",
     "output_type": "stream",
     "text": [
      "('Training set', (200000, 28, 28), (200000,))\n",
      "('Validation set', (10000, 28, 28), (10000,))\n",
      "('Test set', (18724, 28, 28), (18724,))\n"
     ]
    }
   ],
   "source": [
    "os.chdir('/Users/voladoddi/Downloads')\n",
    "pickle_file = 'notMNIST.pickle'\n",
    "\n",
    "with open(pickle_file, 'rb') as f:\n",
    "  save = pickle.load(f)\n",
    "  train_dataset = save['train_dataset']\n",
    "  train_labels = save['train_labels']\n",
    "  valid_dataset = save['valid_dataset']\n",
    "  valid_labels = save['valid_labels']\n",
    "  test_dataset = save['test_dataset']\n",
    "  test_labels = save['test_labels']\n",
    "  del save  # hint to help gc free up memory\n",
    "  print('Training set', train_dataset.shape, train_labels.shape)\n",
    "  print('Validation set', valid_dataset.shape, valid_labels.shape)\n",
    "  print('Test set', test_dataset.shape, test_labels.shape)"
   ]
  },
  {
   "cell_type": "markdown",
   "metadata": {
    "colab_type": "text",
    "id": "L7aHrm6nGDMB"
   },
   "source": [
    "Reformat into a shape that's more adapted to the models we're going to train:\n",
    "- data as a flat matrix,\n",
    "- labels as float 1-hot encodings."
   ]
  },
  {
   "cell_type": "code",
   "execution_count": 81,
   "metadata": {
    "cellView": "both",
    "colab": {
     "autoexec": {
      "startup": false,
      "wait_interval": 0
     },
     "output_extras": [
      {
       "item_id": 1
      }
     ]
    },
    "colab_type": "code",
    "collapsed": false,
    "executionInfo": {
     "elapsed": 11728,
     "status": "ok",
     "timestamp": 1449849322356,
     "user": {
      "color": "",
      "displayName": "",
      "isAnonymous": false,
      "isMe": true,
      "permissionId": "",
      "photoUrl": "",
      "sessionId": "0",
      "userId": ""
     },
     "user_tz": 480
    },
    "id": "IRSyYiIIGIzS",
    "outputId": "3f8996ee-3574-4f44-c953-5c8a04636582"
   },
   "outputs": [
    {
     "name": "stdout",
     "output_type": "stream",
     "text": [
      "('Training set', (200000, 784), (200000, 10))\n",
      "('Validation set', (10000, 784), (10000, 10))\n",
      "('Test set', (18724, 784), (18724, 10))\n"
     ]
    }
   ],
   "source": [
    "image_size = 28\n",
    "num_labels = 10\n",
    "\n",
    "def reformat(dataset, labels):\n",
    "  dataset = dataset.reshape((-1, image_size * image_size)).astype(np.float32)\n",
    "  # Map 2 to [0.0, 1.0, 0.0 ...], 3 to [0.0, 0.0, 1.0 ...]\n",
    "  labels = (np.arange(num_labels) == labels[:,None]).astype(np.float32)\n",
    "  return dataset, labels\n",
    "train_dataset, train_labels = reformat(train_dataset, train_labels)\n",
    "valid_dataset, valid_labels = reformat(valid_dataset, valid_labels)\n",
    "test_dataset, test_labels = reformat(test_dataset, test_labels)\n",
    "print('Training set', train_dataset.shape, train_labels.shape)\n",
    "print('Validation set', valid_dataset.shape, valid_labels.shape)\n",
    "print('Test set', test_dataset.shape, test_labels.shape)"
   ]
  },
  {
   "cell_type": "code",
   "execution_count": 47,
   "metadata": {
    "collapsed": false
   },
   "outputs": [],
   "source": [
    "'''Build TF graph '''\n",
    "batch_size              = 128          #1 - for SGD\n",
    "num_hidden_nodes        = 1024\n",
    "\n",
    "graph        = tf.Graph()\n",
    "with graph.as_default():\n",
    "    tf_train_dataset = tf.placeholder(tf.float32,shape=(batch_size,image_size*image_size)) #2 - for SGD\n",
    "    tf_train_labels  = tf.placeholder(tf.float32,shape=(batch_size,num_labels))            #3 - for SGD\n",
    "    tf_valid_dataset = tf.constant(valid_dataset)\n",
    "    tf_test_dataset  = tf.constant(test_dataset)\n",
    "    tf_regularization_constant = tf.placeholder(tf.float32)                                #a float number for reg const. (A3,P1)\n",
    "    \n",
    "    weights = tf.Variable(tf.truncated_normal([image_size * image_size, num_labels]))\n",
    "    biases = tf.Variable(tf.zeros([num_labels]))\n",
    "    \n",
    "    #Train \n",
    "    logits = tf.matmul(tf_train_dataset, weights) + biases\n",
    "    loss   = tf.reduce_mean( tf.nn.softmax_cross_entropy_with_logits(logits, tf_train_labels)) + tf_regularization_constant * tf.nn.l2_loss(weights)\n",
    "    \n",
    "    #Optimizer\n",
    "    optimizer = tf.train.GradientDescentOptimizer(0.5).minimize(loss)\n",
    "    \n",
    "    #Predict (i.e. Test)\n",
    "    train_prediction  = tf.nn.softmax(logits)\n",
    "    valid_prediction  = tf.nn.softmax(tf.matmul(tf_valid_dataset, weights) + biases)\n",
    "    test_prediction   = tf.nn.softmax(tf.matmul(tf_test_dataset, weights)  + biases)"
   ]
  },
  {
   "cell_type": "code",
   "execution_count": 65,
   "metadata": {
    "cellView": "both",
    "colab": {
     "autoexec": {
      "startup": false,
      "wait_interval": 0
     }
    },
    "colab_type": "code",
    "collapsed": true,
    "id": "RajPLaL_ZW6w"
   },
   "outputs": [],
   "source": [
    "def accuracy(predictions, labels):\n",
    "  return (100.0 * np.sum(np.argmax(predictions, 1) == np.argmax(labels, 1))\n",
    "          / predictions.shape[0])"
   ]
  },
  {
   "cell_type": "markdown",
   "metadata": {
    "colab_type": "text",
    "id": "sgLbUAQ1CW-1"
   },
   "source": [
    "---\n",
    "Problem 1\n",
    "---------\n",
    "\n",
    "Introduce and tune L2 regularization for both logistic and neural network models. Remember that L2 amounts to adding a penalty on the norm of the weights to the loss. In TensorFlow, you can compute the L2 loss for a tensor `t` using `nn.l2_loss(t)`. The right amount of regularization should improve your validation / test accuracy.\n",
    "\n",
    "---"
   ]
  },
  {
   "cell_type": "code",
   "execution_count": 72,
   "metadata": {
    "collapsed": false
   },
   "outputs": [
    {
     "ename": "IndentationError",
     "evalue": "unindent does not match any outer indentation level (<ipython-input-72-d5e376b86d19>, line 19)",
     "output_type": "error",
     "traceback": [
      "\u001b[0;36m  File \u001b[0;32m\"<ipython-input-72-d5e376b86d19>\"\u001b[0;36m, line \u001b[0;32m19\u001b[0m\n\u001b[0;31m    print(\"Minibatch loss at step %d: %f\" % (step, l))\u001b[0m\n\u001b[0m                                                      ^\u001b[0m\n\u001b[0;31mIndentationError\u001b[0m\u001b[0;31m:\u001b[0m unindent does not match any outer indentation level\n"
     ]
    }
   ],
   "source": [
    "''' With regularization values '''\n",
    "num_steps   = 3001\n",
    "regConstVec = [1e-5, 1e-4, 1e-3, 1e-2, 1e-1, 1]   #(A3,P1)\n",
    "acc_values  = []                                  #(A3, P1)\n",
    "for beta in regConstVec:                          #(A3, P1)\n",
    "    print '\\n'*2, 'With Beta: %f' % beta      #(A3, P1)\n",
    "    with tf.Session(graph=graph) as session:\n",
    "        tf.initialize_all_variables().run()\n",
    "        print('Initialized...')\n",
    "    \n",
    "        for step in range(num_steps):\n",
    "            offset       = (step * batch_size) % (train_labels.shape[0] - batch_size)\n",
    "            batch_data   = train_dataset[offset:(offset + batch_size) , :]\n",
    "            batch_labels = train_labels[offset:(offset + batch_size) , :]\n",
    "\n",
    "            feed_dict    = {tf_train_dataset : batch_data, tf_train_labels : batch_labels, tf_regularization_constant : beta} #beta (A3,P1)\n",
    "            _ , l , predictions = session.run([optimizer, loss, train_prediction], feed_dict = feed_dict)\n",
    "        \n",
    "        #Just the final step values\n",
    "        print 'Validation accuracy: %.1f%%'%(accuracy(valid_prediction.eval(),valid_labels))\n",
    "        print('Test accuracy: %.1f%%' % accuracy(test_prediction.eval(), test_labels))\n",
    "        acc_values.append(accuracy(test_prediction.eval(), test_labels))   #(A3, P1)"
   ]
  },
  {
   "cell_type": "code",
   "execution_count": 32,
   "metadata": {
    "collapsed": false
   },
   "outputs": [],
   "source": [
    "''' Easier to choose the beta by visualizing than crunching numbers unnecessarily'''\n",
    "plt.semilogx(regConstVec, acc_values, 'bo')\n",
    "#plt.axis([regConstVec[0], regConstVec[-1], 50, 90])\n",
    "plt.xlabel('Beta val')\n",
    "plt.ylabel('Accuracy of test with beta inc.')\n",
    "plt.title('Test accuracy vs Beta values')\n",
    "plt.show()"
   ]
  },
  {
   "cell_type": "markdown",
   "metadata": {},
   "source": [
    "The same thing now for 1-layer Neural Net with 1024 hidden nodes.\n"
   ]
  },
  {
   "cell_type": "code",
   "execution_count": 89,
   "metadata": {
    "collapsed": false
   },
   "outputs": [],
   "source": [
    "batch_size              = 128          #1 - for SGD\n",
    "num_hidden_nodes        = 1024\n",
    "\n",
    "graph        = tf.Graph()\n",
    "with graph.as_default():\n",
    "    tf_train_dataset = tf.placeholder(tf.float32,shape=(batch_size,image_size*image_size)) #2 - for SGD\n",
    "    tf_train_labels  = tf.placeholder(tf.float32,shape=(batch_size,num_labels))            #3 - for SGD\n",
    "    tf_valid_dataset = tf.constant(valid_dataset)\n",
    "    tf_test_dataset  = tf.constant(test_dataset)\n",
    "    tf_regularization_constant = tf.placeholder(tf.float32)\n",
    "\n",
    "    #weights = tf.Variable(tf.truncated_normal([image_size * image_size, num_labels]))\n",
    "    #biases = tf.Variable(tf.zeros([num_labels]))\n",
    "    weights_to_hidden_layer = tf.Variable(tf.truncated_normal([image_size * image_size, num_hidden_nodes]))  #4 - for 1-layer NN with RELU\n",
    "    biases_to_hidden_layer  = tf.zeros([num_hidden_nodes])                                                 #5 - for 1-layer NN with RELU\n",
    "    weights_to_output_layer = tf.Variable(tf.truncated_normal([num_hidden_nodes, num_labels]))               #6 - \" \" \"\n",
    "    biases_to_output_layer  = tf.zeros([num_labels])                                                       #7\n",
    "    \n",
    "    # Training computation\n",
    "    logits_hidden = tf.nn.relu(tf.matmul(tf_train_dataset, weights_to_hidden_layer) + biases_to_hidden_layer)       #8 - \"\n",
    "    logits        = tf.matmul(logits_hidden, weights_to_output_layer) + biases_to_output_layer                      #9 - \"\n",
    "    loss          = tf.reduce_mean( tf.nn.softmax_cross_entropy_with_logits(logits, tf_train_labels)) + \\\n",
    "                    tf_regularization_constant * (tf.nn.l2_loss(weights_to_hidden_layer) + tf.nn.l2_loss(weights_to_output_layer))        #10 - \"\n",
    "    #NOTE - all these unnecessary variables can probably be avoided if you have a FUNCTION for GRAPH CONST DUMBHEAD.\n",
    "    \n",
    "    \n",
    "    #Optimizer\n",
    "    optimizer = tf.train.GradientDescentOptimizer(0.5).minimize(loss)\n",
    "\n",
    "    #Predict / test\n",
    "    train_prediction  = tf.nn.softmax(logits)\n",
    "    valid_hidden      = tf.nn.relu(tf.matmul(tf_valid_dataset, weights_to_hidden_layer) + biases_to_hidden_layer)\n",
    "    valid_prediction  = tf.nn.softmax(tf.matmul(valid_hidden, weights_to_output_layer) + biases_to_output_layer)\n",
    "    test_hidden       = tf.nn.relu(tf.matmul(tf_test_dataset, weights_to_hidden_layer) + biases_to_hidden_layer)\n",
    "    test_prediction   = tf.nn.softmax(tf.matmul(test_hidden, weights_to_output_layer) + biases_to_output_layer)"
   ]
  },
  {
   "cell_type": "code",
   "execution_count": 90,
   "metadata": {
    "collapsed": false
   },
   "outputs": [
    {
     "name": "stdout",
     "output_type": "stream",
     "text": [
      "\n",
      "\n",
      "With Beta: 0.000010\n",
      "Initialized...\n",
      "Validation accuracy: 82.0%\n",
      "Test accuracy: 89.1%\n",
      "\n",
      "\n",
      "With Beta: 0.000100\n",
      "Initialized...\n",
      "Validation accuracy: 81.7%\n",
      "Test accuracy: 89.0%\n",
      "\n",
      "\n",
      "With Beta: 0.001000\n",
      "Initialized...\n",
      "Validation accuracy: 85.8%\n",
      "Test accuracy: 92.2%\n",
      "\n",
      "\n",
      "With Beta: 0.010000\n",
      "Initialized...\n",
      "Validation accuracy: 82.7%\n",
      "Test accuracy: 89.5%\n",
      "\n",
      "\n",
      "With Beta: 0.100000\n",
      "Initialized...\n",
      "Validation accuracy: 78.4%\n",
      "Test accuracy: 85.3%\n",
      "\n",
      "\n",
      "With Beta: 1.000000\n",
      "Initialized...\n",
      "Validation accuracy: 10.3%\n",
      "Test accuracy: 10.0%\n"
     ]
    }
   ],
   "source": [
    "''' With regularization values '''\n",
    "num_steps   = 3001\n",
    "regConstVec = [1e-5, 1e-4, 1e-3, 1e-2, 1e-1, 1]   #(A3,P1)\n",
    "acc_values  = []                                  #(A3, P1)\n",
    "for beta in regConstVec:                          #(A3, P1)\n",
    "    print '\\n'*2, 'With Beta: %f' % beta      #(A3, P1)\n",
    "    with tf.Session(graph=graph) as session:\n",
    "        tf.initialize_all_variables().run()\n",
    "        print('Initialized...')\n",
    "    \n",
    "        for step in range(num_steps):\n",
    "            offset       = (step * batch_size) % (train_labels.shape[0] - batch_size)\n",
    "            batch_data   = train_dataset[offset:(offset + batch_size) , :]\n",
    "            batch_labels = train_labels[offset:(offset + batch_size) , :]\n",
    "\n",
    "            feed_dict    = {tf_train_dataset : batch_data, tf_train_labels : batch_labels, tf_regularization_constant : beta} #beta (A3,P1)\n",
    "            _ , l , predictions = session.run([optimizer, loss, train_prediction], feed_dict = feed_dict)\n",
    "        \n",
    "        #Just the final step values\n",
    "        print 'Validation accuracy: %.1f%%'%(accuracy(valid_prediction.eval(),valid_labels))\n",
    "        print('Test accuracy: %.1f%%' % accuracy(test_prediction.eval(), test_labels))\n",
    "        acc_values.append(accuracy(test_prediction.eval(), test_labels))   #(A3, P1)"
   ]
  },
  {
   "cell_type": "markdown",
   "metadata": {
    "colab_type": "text",
    "id": "na8xX2yHZzNF"
   },
   "source": [
    "---\n",
    "Problem 2\n",
    "---------\n",
    "Let's demonstrate an extreme case of overfitting. Restrict your training data to just a few batches. What happens?\n",
    "\n",
    "---"
   ]
  },
  {
   "cell_type": "code",
   "execution_count": 76,
   "metadata": {
    "collapsed": false
   },
   "outputs": [],
   "source": [
    "batch_size              = 64          #1 - for SGD\n",
    "num_hidden_nodes        = 1024\n",
    "\n",
    "graph        = tf.Graph()\n",
    "with graph.as_default():\n",
    "    tf_train_dataset = tf.placeholder(tf.float32,shape=(batch_size,image_size*image_size)) #2 - for SGD\n",
    "    tf_train_labels  = tf.placeholder(tf.float32,shape=(batch_size,num_labels))            #3 - for SGD\n",
    "    tf_valid_dataset = tf.constant(valid_dataset)\n",
    "    tf_test_dataset  = tf.constant(test_dataset)\n",
    "    tf_regularization_constant = tf.placeholder(tf.float32)\n",
    "\n",
    "    #weights = tf.Variable(tf.truncated_normal([image_size * image_size, num_labels]))\n",
    "    #biases = tf.Variable(tf.zeros([num_labels]))\n",
    "    weights_to_hidden_layer = tf.Variable(tf.truncated_normal([image_size * image_size, num_hidden_nodes]))  #4 - for 1-layer NN with RELU\n",
    "    biases_to_hidden_layer  = tf.zeros([num_hidden_nodes])                                                 #5 - for 1-layer NN with RELU\n",
    "    weights_to_output_layer = tf.Variable(tf.truncated_normal([num_hidden_nodes, num_labels]))               #6 - \" \" \"\n",
    "    biases_to_output_layer  = tf.zeros([num_labels])                                                       #7\n",
    "    \n",
    "    # Training computation\n",
    "    logits_hidden = tf.nn.relu(tf.matmul(tf_train_dataset, weights_to_hidden_layer) + biases_to_hidden_layer)       #8 - \"\n",
    "    logits        = tf.matmul(logits_hidden, weights_to_output_layer) + biases_to_output_layer                      #9 - \"\n",
    "    loss          = tf.reduce_mean( tf.nn.softmax_cross_entropy_with_logits(logits, tf_train_labels)) + \\\n",
    "                    tf_regularization_constant * (tf.nn.l2_loss(weights_to_hidden_layer) + tf.nn.l2_loss(weights_to_output_layer))        #10 - \"\n",
    "    #NOTE - all these unnecessary variables can probably be avoided if you have a FUNCTION for GRAPH CONST DUMBHEAD.\n",
    "    \n",
    "    \n",
    "    #Optimizer\n",
    "    optimizer = tf.train.GradientDescentOptimizer(0.5).minimize(loss)\n",
    "\n",
    "    #Predict / test\n",
    "    train_prediction  = tf.nn.softmax(logits)\n",
    "    valid_hidden      = tf.nn.relu(tf.matmul(tf_valid_dataset, weights_to_hidden_layer) + biases_to_hidden_layer)\n",
    "    valid_prediction  = tf.nn.softmax(tf.matmul(valid_hidden, weights_to_output_layer) + biases_to_output_layer)\n",
    "    test_hidden       = tf.nn.relu(tf.matmul(tf_test_dataset, weights_to_hidden_layer) + biases_to_hidden_layer)\n",
    "    test_prediction   = tf.nn.softmax(tf.matmul(test_hidden, weights_to_output_layer) + biases_to_output_layer)"
   ]
  },
  {
   "cell_type": "code",
   "execution_count": 55,
   "metadata": {
    "collapsed": false
   },
   "outputs": [
    {
     "name": "stdout",
     "output_type": "stream",
     "text": [
      "\n",
      "\n",
      "With Beta: 0.000010\n",
      "Initialized...\n",
      "Validation accuracy: 74.1%\n",
      "Test accuracy: 80.7%\n",
      "\n",
      "\n",
      "With Beta: 0.000100\n",
      "Initialized...\n",
      "Validation accuracy: 76.6%\n",
      "Test accuracy: 83.3%\n",
      "\n",
      "\n",
      "With Beta: 0.001000\n",
      "Initialized...\n",
      "Validation accuracy: 74.6%\n",
      "Test accuracy: 80.9%\n",
      "\n",
      "\n",
      "With Beta: 0.010000\n",
      "Initialized...\n",
      "Validation accuracy: 79.5%\n",
      "Test accuracy: 86.9%\n",
      "\n",
      "\n",
      "With Beta: 0.100000\n",
      "Initialized...\n",
      "Validation accuracy: 72.2%\n",
      "Test accuracy: 78.0%\n",
      "\n",
      "\n",
      "With Beta: 1.000000\n",
      "Initialized...\n",
      "Validation accuracy: 10.3%\n",
      "Test accuracy: 10.0%\n"
     ]
    }
   ],
   "source": [
    "''' With regularization values '''\n",
    "num_steps   = 301\n",
    "regConstVec = [1e-5, 1e-4, 1e-3, 1e-2, 1e-1, 1]   #(A3,P1)\n",
    "acc_values  = []                                  #(A3, P1)\n",
    "for beta in regConstVec:                          #(A3, P1)\n",
    "    print '\\n'*2, 'With Beta: %f' % beta      #(A3, P1)\n",
    "    with tf.Session(graph=graph) as session:\n",
    "        tf.initialize_all_variables().run()\n",
    "        print('Initialized...')\n",
    "    \n",
    "        for step in range(num_steps):\n",
    "            offset       = (step * batch_size) % (train_labels.shape[0] - batch_size)\n",
    "            batch_data   = train_dataset[offset:(offset + batch_size) , :]\n",
    "            batch_labels = train_labels[offset:(offset + batch_size) , :]\n",
    "\n",
    "            feed_dict    = {tf_train_dataset : batch_data, tf_train_labels : batch_labels, tf_regularization_constant : beta} #beta (A3,P1)\n",
    "            _ , l , predictions = session.run([optimizer, loss, train_prediction], feed_dict = feed_dict)\n",
    "        \n",
    "        #Just the final step values\n",
    "        print 'Validation accuracy: %.1f%%'%(accuracy(valid_prediction.eval(),valid_labels))\n",
    "        print('Test accuracy: %.1f%%' % accuracy(test_prediction.eval(), test_labels))\n",
    "        acc_values.append(accuracy(test_prediction.eval(), test_labels))   #(A3, P1)"
   ]
  },
  {
   "cell_type": "markdown",
   "metadata": {
    "colab_type": "text",
    "id": "ww3SCBUdlkRc"
   },
   "source": [
    "---\n",
    "Problem 3\n",
    "---------\n",
    "Introduce Dropout on the hidden layer of the neural network. Remember: Dropout should only be introduced during training, not evaluation, otherwise your evaluation results would be stochastic as well. TensorFlow provides `nn.dropout()` for that, but you have to make sure it's only inserted during training.\n",
    "\n",
    "What happens to our extreme overfitting case?\n",
    "\n",
    "---"
   ]
  },
  {
   "cell_type": "code",
   "execution_count": 143,
   "metadata": {
    "collapsed": false
   },
   "outputs": [],
   "source": [
    "batch_size              = 128       \n",
    "num_hidden_nodes        = 1024\n",
    "\n",
    "graph        = tf.Graph()\n",
    "with graph.as_default():\n",
    "    tf_train_dataset = tf.placeholder(tf.float32,shape=(batch_size,image_size*image_size))\n",
    "    tf_train_labels  = tf.placeholder(tf.float32,shape=(batch_size,num_labels))\n",
    "    tf_valid_dataset = tf.constant(valid_dataset)\n",
    "    tf_test_dataset  = tf.constant(test_dataset)\n",
    "    tf_regularization_constant = tf.placeholder(tf.float32)\n",
    "\n",
    "    #weights = tf.Variable(tf.truncated_normal([image_size * image_size, num_labels]))\n",
    "    #biases = tf.Variable(tf.zeros([num_labels]))\n",
    "    weights_to_hidden_layer = tf.Variable(tf.truncated_normal([image_size * image_size, num_hidden_nodes]))\n",
    "    biases_to_hidden_layer  = tf.zeros([num_hidden_nodes])                                  \n",
    "    weights_to_output_layer = tf.Variable(tf.truncated_normal([num_hidden_nodes, num_labels])) \n",
    "    biases_to_output_layer  = tf.zeros([num_labels])                                                \n",
    "    \n",
    "    # Training computation\n",
    "    logits_hidden = tf.nn.dropout(\n",
    "                    tf.nn.relu(tf.matmul(tf_train_dataset, weights_to_hidden_layer) + biases_to_hidden_layer),0.72)\n",
    "    logits        = tf.matmul(logits_hidden, weights_to_output_layer) + biases_to_output_layer      \n",
    "    loss          = tf.reduce_mean( tf.nn.softmax_cross_entropy_with_logits(logits, tf_train_labels)) + \\\n",
    "                    tf_regularization_constant * (tf.nn.l2_loss(weights_to_hidden_layer) + tf.nn.l2_loss(weights_to_output_layer))      \n",
    "        \n",
    "    # Optimizer\n",
    "    optimizer = tf.train.GradientDescentOptimizer(0.4).minimize(loss)\n",
    "\n",
    "    #Predict / test\n",
    "    train_prediction  = tf.nn.softmax(logits)\n",
    "    valid_hidden      = tf.nn.relu(tf.matmul(tf_valid_dataset, weights_to_hidden_layer) + biases_to_hidden_layer)\n",
    "    valid_prediction  = tf.nn.softmax(tf.matmul(valid_hidden, weights_to_output_layer) + biases_to_output_layer)\n",
    "    test_hidden       = tf.nn.relu(tf.matmul(tf_test_dataset, weights_to_hidden_layer) + biases_to_hidden_layer)\n",
    "    test_prediction   = tf.nn.softmax(tf.matmul(test_hidden, weights_to_output_layer) + biases_to_output_layer)"
   ]
  },
  {
   "cell_type": "code",
   "execution_count": 144,
   "metadata": {
    "collapsed": false
   },
   "outputs": [
    {
     "name": "stdout",
     "output_type": "stream",
     "text": [
      "\n",
      "\n",
      "With Beta: 0.002900\n",
      "Initialized...\n",
      "Validation accuracy: 24.8%\n",
      "Test accuracy: 26.3%\n",
      "Validation accuracy: 80.5%\n",
      "Test accuracy: 87.3%\n",
      "Validation accuracy: 81.9%\n",
      "Test accuracy: 88.4%\n",
      "Validation accuracy: 84.5%\n",
      "Test accuracy: 90.8%\n",
      "Validation accuracy: 85.7%\n",
      "Test accuracy: 92.3%\n",
      "Validation accuracy: 86.5%\n",
      "Test accuracy: 92.8%\n",
      "Validation accuracy: 86.2%\n",
      "Test accuracy: 92.2%\n"
     ]
    }
   ],
   "source": [
    "''' With regularization values '''\n",
    "num_steps   = 3001\n",
    "#regConstVec = [1e-5, 1e-4, 1e-3, 1e-2, 1e-1, 1]   #(A3,P1)\n",
    "regConstVec = [29e-4]\n",
    "acc_values  = []                                  #(A3, P1)\n",
    "for beta in regConstVec:                          #(A3, P1)\n",
    "    print '\\n'*2, 'With Beta: %f' % beta      #(A3, P1)\n",
    "    with tf.Session(graph=graph) as session:\n",
    "        tf.initialize_all_variables().run()\n",
    "        print('Initialized...')\n",
    "    \n",
    "        for step in range(num_steps):\n",
    "            offset       = (step * batch_size) % (train_labels.shape[0] - batch_size)\n",
    "            batch_data   = train_dataset[offset:(offset + batch_size) , :]\n",
    "            batch_labels = train_labels[offset:(offset + batch_size) , :]\n",
    "\n",
    "            feed_dict    = {tf_train_dataset : batch_data, tf_train_labels : batch_labels, tf_regularization_constant : beta} #beta (A3,P1)\n",
    "            _ , l , predictions = session.run([optimizer, loss, train_prediction], feed_dict = feed_dict)\n",
    "            if (step%500==0):\n",
    "                #Just the final step values\n",
    "                print 'Validation accuracy: %.1f%%'%(accuracy(valid_prediction.eval(),valid_labels))\n",
    "                print('Test accuracy: %.1f%%' % accuracy(test_prediction.eval(), test_labels))\n",
    "        #acc_values.append(accuracy(test_prediction.eval(), test_labels))   #(A3, P1)"
   ]
  },
  {
   "cell_type": "code",
   "execution_count": 146,
   "metadata": {
    "collapsed": false
   },
   "outputs": [
    {
     "name": "stdout",
     "output_type": "stream",
     "text": [
      "\n",
      "\n",
      "With Beta: 0.002900\n",
      "Initialized...\n",
      "Validation accuracy: 24.4%\n",
      "Test accuracy: 26.4%\n",
      "Validation accuracy: 78.5%\n",
      "Test accuracy: 85.4%\n",
      "Validation accuracy: 76.2%\n",
      "Test accuracy: 83.4%\n"
     ]
    }
   ],
   "source": [
    "''' EXTREME OVERFITTING --- Reduce steps by a factor of 10'''\n",
    "num_steps   = 300\n",
    "regConstVec = [29e-4]\n",
    "acc_values  = []                                  #(A3, P1)\n",
    "for beta in regConstVec:                          #(A3, P1)\n",
    "    print '\\n'*2, 'With Beta: %f' % beta      #(A3, P1)\n",
    "    with tf.Session(graph=graph) as session:\n",
    "        tf.initialize_all_variables().run()\n",
    "        print('Initialized...')\n",
    "    \n",
    "        for step in range(num_steps):\n",
    "            offset       = (step * batch_size) % (train_labels.shape[0] - batch_size)\n",
    "            batch_data   = train_dataset[offset:(offset + batch_size) , :]\n",
    "            batch_labels = train_labels[offset:(offset + batch_size) , :]\n",
    "\n",
    "            feed_dict    = {tf_train_dataset : batch_data, tf_train_labels : batch_labels, tf_regularization_constant : beta} #beta (A3,P1)\n",
    "            _ , l , predictions = session.run([optimizer, loss, train_prediction], feed_dict = feed_dict)\n",
    "            if (step%100==0):\n",
    "                #Just the final step values\n",
    "                print 'Validation accuracy: %.1f%%'%(accuracy(valid_prediction.eval(),valid_labels))\n",
    "                print('Test accuracy: %.1f%%' % accuracy(test_prediction.eval(), test_labels))"
   ]
  },
  {
   "cell_type": "markdown",
   "metadata": {
    "colab_type": "text",
    "id": "-b1hTz3VWZjw"
   },
   "source": [
    "---\n",
    "Problem 4\n",
    "---\n",
    "\n",
    "\n",
    "Try to get the best performance you can using a multi-layer model! The best reported test accuracy using a deep network is [97.1%](http://yaroslavvb.blogspot.com/2011/09/notmnist-dataset.html?showComment=1391023266211#c8758720086795711595).\n",
    "\n",
    "One avenue you can explore is to add multiple layers.\n",
    "\n",
    "Another one is to use learning rate decay:\n",
    "\n",
    "    global_step = tf.Variable(0)  # count the number of steps taken.\n",
    "    learning_rate = tf.train.exponential_decay(0.5, global_step, ...)\n",
    "    optimizer = tf.train.GradientDescentOptimizer(learning_rate).minimize(loss, global_step=global_step)\n",
    " \n",
    " ---\n"
   ]
  },
  {
   "cell_type": "code",
   "execution_count": 246,
   "metadata": {
    "collapsed": false
   },
   "outputs": [],
   "source": [
    "''' Build the tensorflow computation graph '''\n",
    "'''\n",
    "    1. Weights initialization --- hidden layer=?, output laer = ?.\n",
    "    2. Learning Rate Decay. \n",
    "    \n",
    "    3. Combine both.\n",
    "    \n",
    "    4. Add more layers ---> depth\n",
    "    \n",
    "    5. Increase #hidden nodes? ---> width\n",
    "'''\n",
    "\n",
    "#  ------------------------------------------------\n",
    "batch_size              = 128       \n",
    "num_hidden_nodes_lay1   = 1024\n",
    "num_hidden_nodes_lay2   = 512\n",
    "\n",
    "graph        = tf.Graph()\n",
    "with graph.as_default():\n",
    "    tf_train_dataset = tf.placeholder(tf.float32,shape=(batch_size,image_size*image_size))\n",
    "    tf_train_labels  = tf.placeholder(tf.float32,shape=(batch_size,num_labels))\n",
    "    tf_valid_dataset = tf.constant(valid_dataset)\n",
    "    tf_test_dataset  = tf.constant(test_dataset)\n",
    "    tf_regularization_constant = tf.placeholder(tf.float32)\n",
    "\n",
    "    #weights = tf.Variable(tf.truncated_normal([image_size * image_size, num_labels]))\n",
    "    #biases = tf.Variable(tf.zeros([num_labels]))\n",
    "    weights_to_hidden_lay1 = tf.Variable(tf.truncated_normal([image_size * image_size, num_hidden_nodes_lay1],stddev=0.035,seed=5))\n",
    "    biases_to_hidden_lay1  = tf.zeros([num_hidden_nodes_lay1])\n",
    "    \n",
    "    weights_to_hidden_lay2 = tf.Variable(tf.truncated_normal([num_hidden_nodes_lay1, num_hidden_nodes_lay2],stddev=0.031,seed=5))\n",
    "    biases_to_hidden_lay2  = tf.zeros([num_hidden_nodes_lay2])\n",
    "    \n",
    "    weights_to_output_layer = tf.Variable(tf.truncated_normal([num_hidden_nodes_lay2, num_labels],stddev=0.045, seed=5)) \n",
    "    biases_to_output_layer  = tf.zeros([num_labels])                                                \n",
    "    \n",
    "    # Training computation\n",
    "    logits_hidden1 = tf.nn.dropout(\n",
    "                     tf.nn.relu(tf.matmul(tf_train_dataset, weights_to_hidden_lay1) + biases_to_hidden_lay1),0.9)\n",
    "    logits_hidden2 = tf.nn.dropout(\n",
    "                     tf.nn.relu(tf.matmul(logits_hidden1, weights_to_hidden_lay2) + biases_to_hidden_lay2),0.9)\n",
    "    \n",
    "    logits         = tf.matmul(logits_hidden2, weights_to_output_layer) + biases_to_output_layer\n",
    "    \n",
    "    loss           = tf.reduce_mean( tf.nn.softmax_cross_entropy_with_logits(logits, tf_train_labels)) + \\\n",
    "                     tf_regularization_constant * (tf.nn.l2_loss(weights_to_hidden_lay1) + \\\n",
    "                                                  tf.nn.l2_loss(weights_to_hidden_lay2) + tf.nn.l2_loss(weights_to_output_layer))      \n",
    "        \n",
    "    \n",
    "    # Optimizer\n",
    "    #optimizer = tf.train.GradientDescentOptimizer(0.8).minimize(loss)\n",
    "    \n",
    "    global_step = tf.Variable(0)\n",
    "    starter_learning_rate = 0.8\n",
    "    learning_rate = tf.train.exponential_decay(starter_learning_rate, global_step,\n",
    "                                           100, 0.95, staircase=True)\n",
    "    optimizer = tf.train.GradientDescentOptimizer(learning_rate).minimize(loss, global_step=global_step)\n",
    "\n",
    "    #Predict / test\n",
    "    train_prediction  = tf.nn.softmax(logits)\n",
    "    \n",
    "    valid_hidden_lay1 = tf.nn.relu(tf.matmul(tf_valid_dataset, weights_to_hidden_lay1)  + biases_to_hidden_lay1)\n",
    "    valid_hidden_lay2 = tf.nn.relu(tf.matmul(valid_hidden_lay1, weights_to_hidden_lay2) + biases_to_hidden_lay2)\n",
    "    valid_prediction  = tf.nn.softmax(tf.matmul(valid_hidden_lay2, weights_to_output_layer) + biases_to_output_layer)\n",
    "    \n",
    "    test_hidden_lay1  = tf.nn.relu(tf.matmul(tf_test_dataset, weights_to_hidden_lay1) + biases_to_hidden_lay1)\n",
    "    test_hidden_lay2  = tf.nn.relu(tf.matmul(test_hidden_lay1,weights_to_hidden_lay2) + biases_to_hidden_lay2)\n",
    "    test_prediction   = tf.nn.softmax(tf.matmul(test_hidden_lay2, weights_to_output_layer) + biases_to_output_layer)"
   ]
  },
  {
   "cell_type": "code",
   "execution_count": 247,
   "metadata": {
    "collapsed": false
   },
   "outputs": [
    {
     "name": "stdout",
     "output_type": "stream",
     "text": [
      "\n",
      "\n",
      "With Beta: 0.000550\n",
      "Initialized...\n",
      "Validation accuracy: 28.2%\n",
      "Test accuracy: 30.9%\n",
      "Validation accuracy: 85.6%\n",
      "Test accuracy: 92.0%\n",
      "Validation accuracy: 87.4%\n",
      "Test accuracy: 93.4%\n",
      "Validation accuracy: 88.2%\n",
      "Test accuracy: 94.1%\n",
      "Validation accuracy: 88.8%\n",
      "Test accuracy: 94.5%\n",
      "Validation accuracy: 89.1%\n",
      "Test accuracy: 94.6%\n",
      "Validation accuracy: 89.2%\n",
      "Test accuracy: 94.8%\n"
     ]
    }
   ],
   "source": [
    "''' With regularization values '''\n",
    "num_steps   = 3001\n",
    "#regConstVec = [1e-5, 1e-4, 1e-3, 1e-2, 1e-1, 1]   #(A3,P1)\n",
    "regConstVec = [0.00055]\n",
    "acc_values  = []                                  #(A3, P1)\n",
    "for beta in regConstVec:                          #(A3, P1)\n",
    "    print '\\n'*2, 'With Beta: %f' % beta      #(A3, P1)\n",
    "    with tf.Session(graph=graph) as session:\n",
    "        tf.initialize_all_variables().run()\n",
    "        print('Initialized...')\n",
    "    \n",
    "        for step in range(num_steps):\n",
    "            offset       = (step * batch_size) % (train_labels.shape[0] - batch_size)\n",
    "            batch_data   = train_dataset[offset:(offset + batch_size) , :]\n",
    "            batch_labels = train_labels[offset:(offset + batch_size) , :]\n",
    "\n",
    "            feed_dict    = {tf_train_dataset : batch_data, tf_train_labels : batch_labels, tf_regularization_constant : beta} #beta (A3,P1)\n",
    "            _ , l , predictions = session.run([optimizer, loss, train_prediction], feed_dict = feed_dict)\n",
    "            if (step%500==0):\n",
    "                #Just the final step values\n",
    "                print 'Validation accuracy: %.1f%%'%(accuracy(valid_prediction.eval(),valid_labels))\n",
    "                print('Test accuracy: %.1f%%' % accuracy(test_prediction.eval(), test_labels))\n",
    "        #acc_values.append(accuracy(test_prediction.eval(), test_labels))   #(A3, P1)"
   ]
  },
  {
   "cell_type": "code",
   "execution_count": null,
   "metadata": {
    "collapsed": true
   },
   "outputs": [],
   "source": [
    "#---- FINAL NUMBERS WITHOUT SECOND HIDDEN LAYER. -----\n",
    "With Beta: 0.001000\n",
    "Initialized...\n",
    "Validation accuracy: 40.5%\n",
    "Test accuracy: 45.6%\n",
    "Validation accuracy: 84.9%\n",
    "Test accuracy: 91.5%\n",
    "Validation accuracy: 87.1%\n",
    "Test accuracy: 93.1%\n",
    "Validation accuracy: 88.0%\n",
    "Test accuracy: 93.9%\n",
    "Validation accuracy: 88.1%\n",
    "Test accuracy: 94.2%\n",
    "Validation accuracy: 88.5%\n",
    "Test accuracy: 94.4%\n",
    "Validation accuracy: 88.6%\n",
    "Test accuracy: 94.4%\n",
    "    \n",
    "    Params: stddev=0.035, stddev = 0.03125,  \n",
    "         starter_learning_rate = 0.9\n",
    "    learning_rate = tf.train.exponential_decay(starter_learning_rate, global_step,\n",
    "                                           50, 0.95, staircase=True), droput = 0.85\n",
    "    "
   ]
  }
 ],
 "metadata": {
  "colab": {
   "default_view": {},
   "name": "3_regularization.ipynb",
   "provenance": [],
   "version": "0.3.2",
   "views": {}
  },
  "kernelspec": {
   "display_name": "Python 2",
   "language": "python",
   "name": "python2"
  },
  "language_info": {
   "codemirror_mode": {
    "name": "ipython",
    "version": 2
   },
   "file_extension": ".py",
   "mimetype": "text/x-python",
   "name": "python",
   "nbconvert_exporter": "python",
   "pygments_lexer": "ipython2",
   "version": "2.7.11"
  }
 },
 "nbformat": 4,
 "nbformat_minor": 0
}
